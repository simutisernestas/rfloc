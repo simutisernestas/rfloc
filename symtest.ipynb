{
 "cells": [
  {
   "cell_type": "code",
   "execution_count": 18,
   "metadata": {},
   "outputs": [],
   "source": [
    "import symforce\n",
    "try:\n",
    "        symforce.set_epsilon_to_symbol()\n",
    "except:\n",
    "        pass\n",
    "import symforce.symbolic as sf\n",
    "import numpy as np\n",
    "from symforce.notebook_util import display"
   ]
  },
  {
   "cell_type": "code",
   "execution_count": 19,
   "metadata": {},
   "outputs": [
    {
     "data": {
      "text/plain": [
       "[1.0, 1.0, 1.0]\n",
       "[1.0, 1.0, 1.0]\n",
       "[1.0, 1.0, 1.0]"
      ]
     },
     "metadata": {},
     "output_type": "display_data"
    }
   ],
   "source": [
    "m = sf.Matrix(np.ones((3,3)))\n",
    "m"
   ]
  },
  {
   "cell_type": "code",
   "execution_count": 20,
   "metadata": {},
   "outputs": [
    {
     "data": {
      "text/plain": [
       "<Rot3 <Q xyzw=[0.339005049421045, 0.339005049421045, 0.620544580563746, 0.620544580563746]>>"
      ]
     },
     "execution_count": 20,
     "metadata": {},
     "output_type": "execute_result"
    }
   ],
   "source": [
    "R = sf.Rot3.from_yaw_pitch_roll(np.pi/2,0,1)\n",
    "R"
   ]
  },
  {
   "cell_type": "code",
   "execution_count": 21,
   "metadata": {},
   "outputs": [
    {
     "data": {
      "text/plain": [
       "[1]\n",
       "[0]\n",
       "[0]"
      ]
     },
     "metadata": {},
     "output_type": "display_data"
    }
   ],
   "source": [
    "def symvec(shape=None):\n",
    "    M = []\n",
    "    # variables = []\n",
    "    for i in range(shape[0]):\n",
    "        M.append([])\n",
    "        for j in range(shape[1]):\n",
    "            M[i].append(sf.Symbol(f\"x{i*shape[1]+j}\"))\n",
    "    return sf.Matrix(M)\n",
    "M = symvec((3,1))\n",
    "M.jacobian(M[0])"
   ]
  },
  {
   "cell_type": "code",
   "execution_count": 22,
   "metadata": {},
   "outputs": [
    {
     "data": {
      "text/plain": [
       "[(-b0 + x0)/sqrt((-b0 + x0)**2 + (-b1 + x1)**2 + (-b2 + x2)**2), (-b1 + x1)/sqrt((-b0 + x0)**2 + (-b1 + x1)**2 + (-b2 + x2)**2), (-b2 + x2)/sqrt((-b0 + x0)**2 + (-b1 + x1)**2 + (-b2 + x2)**2)]\n",
       "[(-b0 + x0)/sqrt((-b0 + x0)**2 + (-b1 + x1)**2 + (-b2 + x2)**2), (-b1 + x1)/sqrt((-b0 + x0)**2 + (-b1 + x1)**2 + (-b2 + x2)**2), (-b2 + x2)/sqrt((-b0 + x0)**2 + (-b1 + x1)**2 + (-b2 + x2)**2)]\n",
       "[(-b0 + x0)/sqrt((-b0 + x0)**2 + (-b1 + x1)**2 + (-b2 + x2)**2), (-b1 + x1)/sqrt((-b0 + x0)**2 + (-b1 + x1)**2 + (-b2 + x2)**2), (-b2 + x2)/sqrt((-b0 + x0)**2 + (-b1 + x1)**2 + (-b2 + x2)**2)]"
      ]
     },
     "metadata": {},
     "output_type": "display_data"
    }
   ],
   "source": [
    "sf.V3([(sf.V3.symbolic(\"x\") - sf.V3.symbolic(\"b\")).norm(),\n",
    "(sf.V3.symbolic(\"x\") - sf.V3.symbolic(\"b\")).norm(),\n",
    "(sf.V3.symbolic(\"x\") - sf.V3.symbolic(\"b\")).norm()]).jacobian(sf.V3.symbolic(\"x\"))"
   ]
  },
  {
   "cell_type": "code",
   "execution_count": 23,
   "metadata": {},
   "outputs": [],
   "source": [
    "# finite horizon optimization-based localization, \n",
    "# taking into account last N measurements and forming\n",
    "# optimization problem to correctly assign current \n",
    "# position given N previous measurements and last estimate : )"
   ]
  },
  {
   "cell_type": "code",
   "execution_count": 24,
   "metadata": {},
   "outputs": [],
   "source": [
    "ax = sf.V3.symbolic(\"a\")\n",
    "beacons = [sf.V3.symbolic(f\"b{i}_\") for i in range(4)]"
   ]
  },
  {
   "cell_type": "code",
   "execution_count": 28,
   "metadata": {},
   "outputs": [
    {
     "data": {
      "text/latex": [
       "$\\displaystyle \\left[\\begin{matrix}\\frac{a_{0} - b_{0 0}}{\\sqrt{\\left(a_{0} - b_{0 0}\\right)^{2} + \\left(a_{1} - b_{0 1}\\right)^{2} + \\left(a_{2} - b_{0 2}\\right)^{2}}} & \\frac{a_{1} - b_{0 1}}{\\sqrt{\\left(a_{0} - b_{0 0}\\right)^{2} + \\left(a_{1} - b_{0 1}\\right)^{2} + \\left(a_{2} - b_{0 2}\\right)^{2}}} & \\frac{a_{2} - b_{0 2}}{\\sqrt{\\left(a_{0} - b_{0 0}\\right)^{2} + \\left(a_{1} - b_{0 1}\\right)^{2} + \\left(a_{2} - b_{0 2}\\right)^{2}}}\\\\\\frac{a_{0} - b_{1 0}}{\\sqrt{\\left(a_{0} - b_{1 0}\\right)^{2} + \\left(a_{1} - b_{1 1}\\right)^{2} + \\left(a_{2} - b_{1 2}\\right)^{2}}} & \\frac{a_{1} - b_{1 1}}{\\sqrt{\\left(a_{0} - b_{1 0}\\right)^{2} + \\left(a_{1} - b_{1 1}\\right)^{2} + \\left(a_{2} - b_{1 2}\\right)^{2}}} & \\frac{a_{2} - b_{1 2}}{\\sqrt{\\left(a_{0} - b_{1 0}\\right)^{2} + \\left(a_{1} - b_{1 1}\\right)^{2} + \\left(a_{2} - b_{1 2}\\right)^{2}}}\\\\\\frac{a_{0} - b_{2 0}}{\\sqrt{\\left(a_{0} - b_{2 0}\\right)^{2} + \\left(a_{1} - b_{2 1}\\right)^{2} + \\left(a_{2} - b_{2 2}\\right)^{2}}} & \\frac{a_{1} - b_{2 1}}{\\sqrt{\\left(a_{0} - b_{2 0}\\right)^{2} + \\left(a_{1} - b_{2 1}\\right)^{2} + \\left(a_{2} - b_{2 2}\\right)^{2}}} & \\frac{a_{2} - b_{2 2}}{\\sqrt{\\left(a_{0} - b_{2 0}\\right)^{2} + \\left(a_{1} - b_{2 1}\\right)^{2} + \\left(a_{2} - b_{2 2}\\right)^{2}}}\\\\\\frac{a_{0} - b_{3 0}}{\\sqrt{\\left(a_{0} - b_{3 0}\\right)^{2} + \\left(a_{1} - b_{3 1}\\right)^{2} + \\left(a_{2} - b_{3 2}\\right)^{2}}} & \\frac{a_{1} - b_{3 1}}{\\sqrt{\\left(a_{0} - b_{3 0}\\right)^{2} + \\left(a_{1} - b_{3 1}\\right)^{2} + \\left(a_{2} - b_{3 2}\\right)^{2}}} & \\frac{a_{2} - b_{3 2}}{\\sqrt{\\left(a_{0} - b_{3 0}\\right)^{2} + \\left(a_{1} - b_{3 1}\\right)^{2} + \\left(a_{2} - b_{3 2}\\right)^{2}}}\\end{matrix}\\right]$"
      ],
      "text/plain": [
       "⎡                   a₀ - b₀ ₀                                        a₁ - b₀ ₁\n",
       "⎢───────────────────────────────────────────────  ────────────────────────────\n",
       "⎢   ____________________________________________     _________________________\n",
       "⎢  ╱            2              2              2     ╱            2            \n",
       "⎢╲╱  (a₀ - b₀ ₀)  + (a₁ - b₀ ₁)  + (a₂ - b₀ ₂)    ╲╱  (a₀ - b₀ ₀)  + (a₁ - b₀ \n",
       "⎢                                                                             \n",
       "⎢                   a₀ - b₁ ₀                                        a₁ - b₁ ₁\n",
       "⎢───────────────────────────────────────────────  ────────────────────────────\n",
       "⎢   ____________________________________________     _________________________\n",
       "⎢  ╱            2              2              2     ╱            2            \n",
       "⎢╲╱  (a₀ - b₁ ₀)  + (a₁ - b₁ ₁)  + (a₂ - b₁ ₂)    ╲╱  (a₀ - b₁ ₀)  + (a₁ - b₁ \n",
       "⎢                                                                             \n",
       "⎢                   a₀ - b₂ ₀                                        a₁ - b₂ ₁\n",
       "⎢───────────────────────────────────────────────  ────────────────────────────\n",
       "⎢   ____________________________________________     _________________________\n",
       "⎢  ╱            2              2              2     ╱            2            \n",
       "⎢╲╱  (a₀ - b₂ ₀)  + (a₁ - b₂ ₁)  + (a₂ - b₂ ₂)    ╲╱  (a₀ - b₂ ₀)  + (a₁ - b₂ \n",
       "⎢                                                                             \n",
       "⎢                   a₀ - b₃ ₀                                        a₁ - b₃ ₁\n",
       "⎢───────────────────────────────────────────────  ────────────────────────────\n",
       "⎢   ____________________________________________     _________________________\n",
       "⎢  ╱            2              2              2     ╱            2            \n",
       "⎣╲╱  (a₀ - b₃ ₀)  + (a₁ - b₃ ₁)  + (a₂ - b₃ ₂)    ╲╱  (a₀ - b₃ ₀)  + (a₁ - b₃ \n",
       "\n",
       "                                        a₂ - b₀ ₂                   ⎤\n",
       "───────────────────  ───────────────────────────────────────────────⎥\n",
       "___________________     ____________________________________________⎥\n",
       "  2              2     ╱            2              2              2 ⎥\n",
       "₁)  + (a₂ - b₀ ₂)    ╲╱  (a₀ - b₀ ₀)  + (a₁ - b₀ ₁)  + (a₂ - b₀ ₂)  ⎥\n",
       "                                                                    ⎥\n",
       "                                        a₂ - b₁ ₂                   ⎥\n",
       "───────────────────  ───────────────────────────────────────────────⎥\n",
       "___________________     ____________________________________________⎥\n",
       "  2              2     ╱            2              2              2 ⎥\n",
       "₁)  + (a₂ - b₁ ₂)    ╲╱  (a₀ - b₁ ₀)  + (a₁ - b₁ ₁)  + (a₂ - b₁ ₂)  ⎥\n",
       "                                                                    ⎥\n",
       "                                        a₂ - b₂ ₂                   ⎥\n",
       "───────────────────  ───────────────────────────────────────────────⎥\n",
       "___________________     ____________________________________________⎥\n",
       "  2              2     ╱            2              2              2 ⎥\n",
       "₁)  + (a₂ - b₂ ₂)    ╲╱  (a₀ - b₂ ₀)  + (a₁ - b₂ ₁)  + (a₂ - b₂ ₂)  ⎥\n",
       "                                                                    ⎥\n",
       "                                        a₂ - b₃ ₂                   ⎥\n",
       "───────────────────  ───────────────────────────────────────────────⎥\n",
       "___________________     ____________________________________________⎥\n",
       "  2              2     ╱            2              2              2 ⎥\n",
       "₁)  + (a₂ - b₃ ₂)    ╲╱  (a₀ - b₃ ₀)  + (a₁ - b₃ ₁)  + (a₂ - b₃ ₂)  ⎦"
      ]
     },
     "metadata": {},
     "output_type": "display_data"
    }
   ],
   "source": [
    "J = sf.V4([(ax-beacons[i]).norm() for i in range(4)]).jacobian(ax)\n",
    "display(J)"
   ]
  },
  {
   "cell_type": "code",
   "execution_count": 26,
   "metadata": {},
   "outputs": [],
   "source": [
    "from typing import List\n",
    "def computeH(agent_pos: sf.V3, b0: sf.V3, b1: sf.V3, b2: sf.V3, b3: sf.V3):\n",
    "    J = sf.V4([\n",
    "        (agent_pos-b0).norm(),\n",
    "        (agent_pos-b1).norm(),\n",
    "        (agent_pos-b2).norm(),\n",
    "        (agent_pos-b3).norm(),\n",
    "    ]).jacobian(agent_pos)\n",
    "    return J"
   ]
  },
  {
   "cell_type": "code",
   "execution_count": 27,
   "metadata": {},
   "outputs": [
    {
     "data": {
      "text/plain": [
       "PosixPath('/tmp/sf_codegen_computeH_j8m1si57/cpp/symforce/sym/computeH.h')"
      ]
     },
     "execution_count": 27,
     "metadata": {},
     "output_type": "execute_result"
    }
   ],
   "source": [
    "from symforce.codegen import Codegen, CppConfig\n",
    "codegen = Codegen.function(computeH, config=CppConfig())\n",
    "codegen.generate_function().generated_files[0]"
   ]
  }
 ],
 "metadata": {
  "kernelspec": {
   "display_name": "Python 3.10.6 64-bit",
   "language": "python",
   "name": "python3"
  },
  "language_info": {
   "codemirror_mode": {
    "name": "ipython",
    "version": 3
   },
   "file_extension": ".py",
   "mimetype": "text/x-python",
   "name": "python",
   "nbconvert_exporter": "python",
   "pygments_lexer": "ipython3",
   "version": "3.10.6"
  },
  "orig_nbformat": 4,
  "vscode": {
   "interpreter": {
    "hash": "31f2aee4e71d21fbe5cf8b01ff0e069b9275f58929596ceb00d14d90e3e16cd6"
   }
  }
 },
 "nbformat": 4,
 "nbformat_minor": 2
}
