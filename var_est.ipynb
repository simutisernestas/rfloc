{
 "cells": [
  {
   "cell_type": "code",
   "execution_count": 31,
   "metadata": {},
   "outputs": [],
   "source": [
    "import pickle\n",
    "import numpy as np\n",
    "import os"
   ]
  },
  {
   "cell_type": "code",
   "execution_count": 32,
   "metadata": {},
   "outputs": [
    {
     "name": "stdout",
     "output_type": "stream",
     "text": [
      "0.2362202362203541 0.46509999999999996 0.011532129031536184\n",
      "0.4394314508543966 0.6744000000000001 0.02984359227707012\n",
      "0.9228217596047461 1.3348 0.0184108663565841\n",
      "1.381748168082737 1.7651 0.01862766759419978\n",
      "10.27777213213058 10.978100000000001 0.018422540541412617\n",
      "10.751302246704816 11.622499999999997 0.01739971264130566\n",
      "2.309153308033055 2.6806000000000005 0.01891137224000416\n",
      "3.2879452550187023 3.6867 0.013195074838741931\n",
      "4.063705205843553 4.569199999999999 0.012221292893961825\n",
      "4.329587624705152 4.7302 0.014898322053171\n",
      "4.549527447988417 5.0627 0.017079519899575683\n",
      "5.486292008269337 5.921299999999999 0.014398263784220659\n",
      "5.801560134998171 6.3777 0.013255564869140703\n",
      "6.224877508835013 6.6473 0.017427277469530367\n",
      "6.407698494779542 6.920699999999998 0.015116547224812878\n",
      "7.408697591344918 7.8834 0.012978443666326072\n",
      "8.138800218705457 8.703100000000001 0.01792735340199472\n",
      "8.578625589218824 9.0543 0.016867424225411744\n",
      "9.124878081377306 9.6595 0.015451537140362308\n"
     ]
    }
   ],
   "source": [
    "fs = os.listdir('data')\n",
    "for f in fs:\n",
    "    if \"new\" not in f:\n",
    "        continue\n",
    "    with (open(f\"data/{f}\", \"rb\")) as openfile:\n",
    "        measurements = pickle.load(openfile)\n",
    "        measurements = np.array(measurements)\n",
    "        print(f.split('_')[2], measurements.mean(), measurements.std())"
   ]
  },
  {
   "cell_type": "code",
   "execution_count": 33,
   "metadata": {},
   "outputs": [
    {
     "data": {
      "text/plain": [
       "(9.6595, 0.0002387499999999958, 0.015451537140362308)"
      ]
     },
     "execution_count": 33,
     "metadata": {},
     "output_type": "execute_result"
    }
   ],
   "source": [
    "measurements.mean(), measurements.var(), measurements.std()"
   ]
  },
  {
   "cell_type": "code",
   "execution_count": 34,
   "metadata": {},
   "outputs": [
    {
     "data": {
      "text/plain": [
       "4.81128818509139"
      ]
     },
     "execution_count": 34,
     "metadata": {},
     "output_type": "execute_result"
    }
   ],
   "source": [
    "gt_dist = 4.81128818509139\n",
    "gt_dist"
   ]
  }
 ],
 "metadata": {
  "kernelspec": {
   "display_name": "Python 3.8.10 64-bit",
   "language": "python",
   "name": "python3"
  },
  "language_info": {
   "codemirror_mode": {
    "name": "ipython",
    "version": 3
   },
   "file_extension": ".py",
   "mimetype": "text/x-python",
   "name": "python",
   "nbconvert_exporter": "python",
   "pygments_lexer": "ipython3",
   "version": "3.8.10"
  },
  "orig_nbformat": 4,
  "vscode": {
   "interpreter": {
    "hash": "94190857a131a20c0a54ceca99f9f1eec6e706f01643e904dfea950cf200f31a"
   }
  }
 },
 "nbformat": 4,
 "nbformat_minor": 2
}
