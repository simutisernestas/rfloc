{
 "cells": [
  {
   "cell_type": "code",
   "execution_count": 1,
   "metadata": {},
   "outputs": [],
   "source": [
    "import pickle\n",
    "import numpy as np"
   ]
  },
  {
   "cell_type": "code",
   "execution_count": 2,
   "metadata": {},
   "outputs": [
    {
     "data": {
      "text/plain": [
       "((30,),\n",
       " array([7.73399055, 7.92513076, 7.78572548, 7.77126822, 7.92399308,\n",
       "        7.85097358, 7.26379695, 7.5953528 , 7.99501672, 7.81614882,\n",
       "        7.49565263, 7.48197431, 7.36528482, 8.02976022, 7.81472894,\n",
       "        7.69641991, 7.12878084, 7.25206779, 7.68116681, 7.32739306]))"
      ]
     },
     "execution_count": 2,
     "metadata": {},
     "output_type": "execute_result"
    }
   ],
   "source": [
    "with (open(\"data/6022_4.81128818509139_dist.pkl\", \"rb\")) as openfile:\n",
    "    measurements = pickle.load(openfile)\n",
    "    measurements = np.array(measurements)\n",
    "measurements.shape, measurements[:20]"
   ]
  },
  {
   "cell_type": "code",
   "execution_count": 3,
   "metadata": {},
   "outputs": [
    {
     "data": {
      "text/plain": [
       "(7.627183491729978, 0.06283636836295683, 0.2506718340040557)"
      ]
     },
     "execution_count": 3,
     "metadata": {},
     "output_type": "execute_result"
    }
   ],
   "source": [
    "measurements.mean(), measurements.var(), measurements.std()"
   ]
  },
  {
   "cell_type": "code",
   "execution_count": 5,
   "metadata": {},
   "outputs": [
    {
     "data": {
      "text/plain": [
       "4.81128818509139"
      ]
     },
     "execution_count": 5,
     "metadata": {},
     "output_type": "execute_result"
    }
   ],
   "source": [
    "gt_dist = 4.81128818509139\n",
    "gt_dist"
   ]
  },
  {
   "cell_type": "code",
   "execution_count": null,
   "metadata": {},
   "outputs": [],
   "source": []
  }
 ],
 "metadata": {
  "kernelspec": {
   "display_name": "Python 3.8.10 64-bit",
   "language": "python",
   "name": "python3"
  },
  "language_info": {
   "codemirror_mode": {
    "name": "ipython",
    "version": 3
   },
   "file_extension": ".py",
   "mimetype": "text/x-python",
   "name": "python",
   "nbconvert_exporter": "python",
   "pygments_lexer": "ipython3",
   "version": "3.8.10"
  },
  "orig_nbformat": 4,
  "vscode": {
   "interpreter": {
    "hash": "94190857a131a20c0a54ceca99f9f1eec6e706f01643e904dfea950cf200f31a"
   }
  }
 },
 "nbformat": 4,
 "nbformat_minor": 2
}
