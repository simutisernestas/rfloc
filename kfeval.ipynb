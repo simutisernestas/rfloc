{
 "cells": [
  {
   "cell_type": "code",
   "execution_count": 1,
   "metadata": {},
   "outputs": [
    {
     "data": {
      "text/plain": [
       "(515,)"
      ]
     },
     "execution_count": 1,
     "metadata": {},
     "output_type": "execute_result"
    }
   ],
   "source": [
    "import numpy as np\n",
    "import matplotlib.pyplot as plt\n",
    "\n",
    "data = np.load(\"data/innos.npy\", allow_pickle=True) # (y - y_hat)\n",
    "np.array(data).shape"
   ]
  },
  {
   "cell_type": "code",
   "execution_count": 2,
   "metadata": {},
   "outputs": [
    {
     "data": {
      "text/plain": [
       "(515, 3)"
      ]
     },
     "execution_count": 2,
     "metadata": {},
     "output_type": "execute_result"
    }
   ],
   "source": [
    "inno = []\n",
    "for p in data:\n",
    "    inno.append(p[:3])\n",
    "inno = np.array(inno).reshape(-1,3)\n",
    "inno.shape"
   ]
  },
  {
   "cell_type": "code",
   "execution_count": 3,
   "metadata": {},
   "outputs": [],
   "source": [
    "# https://scicoding.com/4-ways-of-calculating-autocorrelation-in-python/\n",
    "def plot_autocorr(data,N=100):\n",
    "    # Mean\n",
    "    mean = np.mean(data)\n",
    "\n",
    "    # Variance\n",
    "    var = np.var(data)\n",
    "\n",
    "    # Normalized data\n",
    "    ndata = data - mean\n",
    "\n",
    "    acorr = np.correlate(ndata, ndata, 'full')[len(ndata)-1:] \n",
    "    acorr = acorr / var / len(ndata)\n",
    "    plt.plot(acorr[:N])"
   ]
  },
  {
   "cell_type": "code",
   "execution_count": 4,
   "metadata": {},
   "outputs": [
    {
     "data": {
      "text/plain": [
       "<matplotlib.legend.Legend at 0x7f5ced286af0>"
      ]
     },
     "execution_count": 4,
     "metadata": {},
     "output_type": "execute_result"
    },
    {
     "data": {
      "image/png": "[encoded data removed]",
      "text/plain": [
       "<Figure size 432x288 with 1 Axes>"
      ]
     },
     "metadata": {
      "needs_background": "light"
     },
     "output_type": "display_data"
    }
   ],
   "source": [
    "plot_autocorr(inno[:,0], N=20)\n",
    "plot_autocorr(inno[:,1], N=20)\n",
    "plot_autocorr(inno[:,2], N=20)\n",
    "plt.grid()\n",
    "plt.axhline(0, color='black')\n",
    "plt.legend(['inno1','inno2','inno3'])\n",
    "# https://www.robots.ox.ac.uk/~ian/Teaching/ TODO: read this one : ) "
   ]
  }
 ],
 "metadata": {
  "kernelspec": {
   "display_name": "Python 3",
   "language": "python",
   "name": "python3"
  },
  "language_info": {
   "codemirror_mode": {
    "name": "ipython",
    "version": 3
   },
   "file_extension": ".py",
   "mimetype": "text/x-python",
   "name": "python",
   "nbconvert_exporter": "python",
   "pygments_lexer": "ipython3",
   "version": "3.8.10"
  },
  "orig_nbformat": 4,
  "vscode": {
   "interpreter": {
    "hash": "916dbcbb3f70747c44a77c7bcd40155683ae19c65e1c03b4aa3499c5328201f1"
   }
  }
 },
 "nbformat": 4,
 "nbformat_minor": 2
}
