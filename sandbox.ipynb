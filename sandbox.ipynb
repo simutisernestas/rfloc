{
 "cells": [
  {
   "cell_type": "code",
   "execution_count": 3,
   "metadata": {},
   "outputs": [],
   "source": [
    "import numpy as np"
   ]
  },
  {
   "cell_type": "code",
   "execution_count": 4,
   "metadata": {},
   "outputs": [
    {
     "data": {
      "text/plain": [
       "array([[1.   , 0.   , 0.   , 0.1  , 0.   , 0.   , 0.005, 0.   , 0.   ],\n",
       "       [0.   , 1.   , 0.   , 0.   , 0.1  , 0.   , 0.   , 0.005, 0.   ],\n",
       "       [0.   , 0.   , 1.   , 0.   , 0.   , 0.1  , 0.   , 0.   , 0.005],\n",
       "       [0.   , 0.   , 0.   , 1.   , 0.   , 0.   , 0.1  , 0.   , 0.   ],\n",
       "       [0.   , 0.   , 0.   , 0.   , 1.   , 0.   , 0.   , 0.1  , 0.   ],\n",
       "       [0.   , 0.   , 0.   , 0.   , 0.   , 1.   , 0.   , 0.   , 0.1  ],\n",
       "       [0.   , 0.   , 0.   , 0.   , 0.   , 0.   , 1.   , 0.   , 0.   ],\n",
       "       [0.   , 0.   , 0.   , 0.   , 0.   , 0.   , 0.   , 1.   , 0.   ],\n",
       "       [0.   , 0.   , 0.   , 0.   , 0.   , 0.   , 0.   , 0.   , 1.   ]])"
      ]
     },
     "execution_count": 4,
     "metadata": {},
     "output_type": "execute_result"
    }
   ],
   "source": [
    "dt = 1e-1\n",
    "# The transition matrix (6x6).\n",
    "F = np.eye(9)\n",
    "F[0][3] = dt\n",
    "F[1][4] = dt\n",
    "F[2][5] = dt\n",
    "F[0][6] = .5*dt**2\n",
    "F[1][7] = .5*dt**2\n",
    "F[2][8] = .5*dt**2\n",
    "F[3][6] = dt\n",
    "F[4][7] = dt\n",
    "F[5][8] = dt\n",
    "F"
   ]
  },
  {
   "cell_type": "code",
   "execution_count": 5,
   "metadata": {},
   "outputs": [],
   "source": [
    "x = np.ones((9,1))"
   ]
  },
  {
   "cell_type": "code",
   "execution_count": 6,
   "metadata": {},
   "outputs": [
    {
     "name": "stdout",
     "output_type": "stream",
     "text": [
      "[[1.105]\n",
      " [1.105]\n",
      " [1.105]\n",
      " [1.1  ]\n",
      " [1.1  ]\n",
      " [1.1  ]\n",
      " [1.   ]\n",
      " [1.   ]\n",
      " [1.   ]]\n",
      "[[1.22]\n",
      " [1.22]\n",
      " [1.22]\n",
      " [1.2 ]\n",
      " [1.2 ]\n",
      " [1.2 ]\n",
      " [1.  ]\n",
      " [1.  ]\n",
      " [1.  ]]\n",
      "[[1.345]\n",
      " [1.345]\n",
      " [1.345]\n",
      " [1.3  ]\n",
      " [1.3  ]\n",
      " [1.3  ]\n",
      " [1.   ]\n",
      " [1.   ]\n",
      " [1.   ]]\n",
      "[[1.48]\n",
      " [1.48]\n",
      " [1.48]\n",
      " [1.4 ]\n",
      " [1.4 ]\n",
      " [1.4 ]\n",
      " [1.  ]\n",
      " [1.  ]\n",
      " [1.  ]]\n",
      "[[1.625]\n",
      " [1.625]\n",
      " [1.625]\n",
      " [1.5  ]\n",
      " [1.5  ]\n",
      " [1.5  ]\n",
      " [1.   ]\n",
      " [1.   ]\n",
      " [1.   ]]\n",
      "[[1.78]\n",
      " [1.78]\n",
      " [1.78]\n",
      " [1.6 ]\n",
      " [1.6 ]\n",
      " [1.6 ]\n",
      " [1.  ]\n",
      " [1.  ]\n",
      " [1.  ]]\n",
      "[[1.945]\n",
      " [1.945]\n",
      " [1.945]\n",
      " [1.7  ]\n",
      " [1.7  ]\n",
      " [1.7  ]\n",
      " [1.   ]\n",
      " [1.   ]\n",
      " [1.   ]]\n",
      "[[2.12]\n",
      " [2.12]\n",
      " [2.12]\n",
      " [1.8 ]\n",
      " [1.8 ]\n",
      " [1.8 ]\n",
      " [1.  ]\n",
      " [1.  ]\n",
      " [1.  ]]\n",
      "[[2.305]\n",
      " [2.305]\n",
      " [2.305]\n",
      " [1.9  ]\n",
      " [1.9  ]\n",
      " [1.9  ]\n",
      " [1.   ]\n",
      " [1.   ]\n",
      " [1.   ]]\n",
      "[[2.5]\n",
      " [2.5]\n",
      " [2.5]\n",
      " [2. ]\n",
      " [2. ]\n",
      " [2. ]\n",
      " [1. ]\n",
      " [1. ]\n",
      " [1. ]]\n"
     ]
    }
   ],
   "source": [
    "for _ in range(10):\n",
    "    x = F @ x\n",
    "    print(x)"
   ]
  },
  {
   "cell_type": "code",
   "execution_count": 7,
   "metadata": {},
   "outputs": [
    {
     "name": "stdout",
     "output_type": "stream",
     "text": [
      "4\n",
      "[array([1, 1, 1]), array([-1,  1,  1]), array([-1, -1, -1]), array([ 1, -1,  1])]\n",
      "[1.7320508075688774, 1.7320508075688774, 1.7320508075688774, 1.7320508075688774]\n",
      "6.92820323027551\n",
      "[4.0, 4.0, 4.0, 4.0] W\n",
      "\n",
      "\n",
      "[[0.]\n",
      " [0.]\n",
      " [8.]] [array([1, 1, 1]), array([-1,  1,  1]), array([-1, -1, -1]), array([ 1, -1,  1])] [1.7320508075688774, 1.7320508075688774, 1.7320508075688774, 1.7320508075688774]\n",
      "[ 0.00076176  0.00146544 -0.00109143]\n"
     ]
    }
   ],
   "source": [
    "# https://github.com/glucee/Multilateration\n",
    "\n",
    "from scipy.optimize import minimize\n",
    "import numpy as np\n",
    "\n",
    "def gps_solve(distances_to_station, stations_coordinates):\n",
    "\tdef error(x, c, r):\n",
    "\t\treturn sum([(np.linalg.norm(x - c[i]) - r[i]) ** 2 for i in range(len(c))])\n",
    "\tl = len(stations_coordinates)\n",
    "\tprint(l)\n",
    "\tS = sum(distances_to_station)\n",
    "\tprint(stations_coordinates)\n",
    "\tprint(distances_to_station)\n",
    "\n",
    "\tprint(S)\n",
    "\t# compute weight vector for initial guess\n",
    "\tW = [((l - 1) * S) / (S - w) for w in distances_to_station]\n",
    "\tprint(W,'W')\n",
    "\t# get initial guess of point location\n",
    "\tx0 = sum([W[i] * stations_coordinates[i] for i in range(l)]).reshape((3,1))\n",
    "\t# optimize distance from signal origin to border of spheres\n",
    "\n",
    "\tprint('\\n')\n",
    "\tprint(x0, stations_coordinates, distances_to_station)\n",
    "\n",
    "\treturn minimize(error, x0, args=(stations_coordinates, distances_to_station), method='Nelder-Mead').x\n",
    "\n",
    "stations = list(np.array([[1,1,1], [-1,1,1], [-1,-1,-1], [1,-1,1]]))\n",
    "distances_to_station = [np.sqrt(np.sqrt(2)**2 + 1**2) for _ in range(4)]\n",
    "print(gps_solve(distances_to_station, stations))"
   ]
  },
  {
   "cell_type": "code",
   "execution_count": 8,
   "metadata": {},
   "outputs": [
    {
     "data": {
      "text/plain": [
       "[array([1, 1, 1]),\n",
       " array([-1,  1,  1]),\n",
       " array([-1, -1, -1]),\n",
       " array([ 1, -1,  1])]"
      ]
     },
     "execution_count": 8,
     "metadata": {},
     "output_type": "execute_result"
    }
   ],
   "source": [
    "stations"
   ]
  },
  {
   "cell_type": "code",
   "execution_count": 9,
   "metadata": {},
   "outputs": [
    {
     "data": {
      "text/plain": [
       "[1.7320508075688774,\n",
       " 1.7320508075688774,\n",
       " 1.7320508075688774,\n",
       " 1.7320508075688774]"
      ]
     },
     "execution_count": 9,
     "metadata": {},
     "output_type": "execute_result"
    }
   ],
   "source": [
    "distances_to_station"
   ]
  },
  {
   "cell_type": "code",
   "execution_count": 12,
   "metadata": {},
   "outputs": [
    {
     "data": {
      "text/plain": [
       "array([[1., 0., 0., 0., 0., 0., 0., 0., 0.],\n",
       "       [0., 1., 0., 0., 0., 0., 0., 0., 0.],\n",
       "       [0., 0., 1., 0., 0., 0., 0., 0., 0.]])"
      ]
     },
     "execution_count": 12,
     "metadata": {},
     "output_type": "execute_result"
    }
   ],
   "source": [
    "H = np.zeros((3, 9))\n",
    "H[0][0] = 1\n",
    "H[1][1] = 1\n",
    "H[2][2] = 1\n",
    "H"
   ]
  }
 ],
 "metadata": {
  "kernelspec": {
   "display_name": "Python 3.8.10 64-bit",
   "language": "python",
   "name": "python3"
  },
  "language_info": {
   "codemirror_mode": {
    "name": "ipython",
    "version": 3
   },
   "file_extension": ".py",
   "mimetype": "text/x-python",
   "name": "python",
   "nbconvert_exporter": "python",
   "pygments_lexer": "ipython3",
   "version": "3.8.10"
  },
  "orig_nbformat": 4,
  "vscode": {
   "interpreter": {
    "hash": "94190857a131a20c0a54ceca99f9f1eec6e706f01643e904dfea950cf200f31a"
   }
  }
 },
 "nbformat": 4,
 "nbformat_minor": 2
}
